{
 "cells": [
  {
   "cell_type": "code",
   "execution_count": 4,
   "metadata": {
    "collapsed": true
   },
   "outputs": [],
   "source": [
    "from urllib.parse import urlparse, urlencode\n",
    "from urllib.request import urlopen, Request\n",
    "from urllib.error import HTTPError\n",
    "from bs4 import BeautifulSoup\n",
    "import urllib.request\n",
    "import re\n"
   ]
  },
  {
   "cell_type": "code",
   "execution_count": 6,
   "metadata": {},
   "outputs": [
    {
     "name": "stdout",
     "output_type": "stream",
     "text": [
      "apple pie recipes\n"
     ]
    }
   ],
   "source": [
    "query=input()\n",
    "query=query.strip().split()\n",
    "query=\"+\".join(query)\n",
    "\n",
    "html = \"https://www.google.co.in/search?site=&source=hp&q=\"+query+\"&gws_rd=ssl\"\n",
    "req = urllib.request.Request(html, headers={'User-Agent': 'Mozilla/5.0'})\n",
    "\n",
    "soup = BeautifulSoup(urlopen(req).read(),\"html.parser\")\n",
    "\n",
    "#Regex\n",
    "reg=re.compile(\".*&sa=\")\n",
    "search =[]\n",
    "links = []\n",
    "title = []\n",
    "body  = []\n",
    "#parsing title\n",
    "for item in soup.find_all(attrs={'class' : 'r'}):\n",
    "        title.append(item.a.contents)\n",
    "#parsing title\n",
    "for item in soup.find_all('img',attrs={'class' : '_ygd'}):\n",
    "        print(item)\n",
    "        \n",
    "#parsing body\n",
    "for item in soup.find_all(attrs={'class' : 'st'}):\n",
    "        body.append(item.contents)\n",
    "\n",
    "#Parsing web urls\n",
    "for item in soup.find_all('h3', attrs={'class' : 'r'}):\n",
    "        line = (reg.match(item.a['href'][7:]).group())\n",
    "        links.append(line[:-4])\n",
    "#print(title)\n",
    "search.append(title)\n",
    "search.append(body)\n",
    "search.append(links)"
   ]
  },
  {
   "cell_type": "code",
   "execution_count": null,
   "metadata": {
    "collapsed": true
   },
   "outputs": [],
   "source": []
  }
 ],
 "metadata": {
  "kernelspec": {
   "display_name": "Python 3",
   "language": "python",
   "name": "python3"
  },
  "language_info": {
   "codemirror_mode": {
    "name": "ipython",
    "version": 3
   },
   "file_extension": ".py",
   "mimetype": "text/x-python",
   "name": "python",
   "nbconvert_exporter": "python",
   "pygments_lexer": "ipython3",
   "version": "3.5.2"
  }
 },
 "nbformat": 4,
 "nbformat_minor": 2
}
