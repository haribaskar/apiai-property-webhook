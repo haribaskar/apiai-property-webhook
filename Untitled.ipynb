{
 "cells": [
  {
   "cell_type": "code",
   "execution_count": 15,
   "metadata": {
    "collapsed": true
   },
   "outputs": [],
   "source": [
    "from urllib.parse import urlparse, urlencode\n",
    "from urllib.request import urlopen, Request\n",
    "from urllib.error import HTTPError\n",
    "from bs4 import BeautifulSoup\n",
    "import urllib.request\n",
    "import re\n"
   ]
  },
  {
   "cell_type": "code",
   "execution_count": 43,
   "metadata": {
    "scrolled": false
   },
   "outputs": [
    {
     "name": "stdout",
     "output_type": "stream",
     "text": [
      "[['https://www.commonfloor.com/bangalore-property/for-rent/apartment-ht', 'http://www.99acres.com/rent-flats-in-bangalore-ffid', 'http://www.99acres.com/rent-residential-apartments-in-bangalore-ffid', 'http://www.magicbricks.com/property-for-rent/Multistorey-Apartment-real-estate-Bangalore', 'https://www.nestaway.com/bangalore/flat-house-for-rent', 'https://housing.com/rent/flats-for-rent-in-bangalore-karnataka-P38f9yfbk7p3m2h1f', 'http://www.quikr.com/homes/property/residential-apartments-for-rent-in-bangalore-cid_23', 'https://www.zenify.in/', 'https://www.makaan.com/bangalore/bangalore-north-flats-for-rent-10008', 'http://www.siliconindia.com/realestate/news/Tips-for-Immigrants-to-Find-Apartments-for-Rent-in-Bangalore-nid-179285.html']]\n"
     ]
    }
   ],
   "source": [
    "query=\"find apartments in bangalore\"\n",
    "query=query.strip().split()\n",
    "query=\"+\".join(query)\n",
    "html=\"https://www.google.co.in/search?q=\"+query\n",
    "req = urllib.request.Request(html, headers={'User-Agent': 'Mozilla/5.0 '})\n",
    "soup = BeautifulSoup(urlopen(req).read(),\"html.parser\")\n",
    "#print(soup)\n",
    "projLink=[]\n",
    "projDetail=[]\n",
    "projImage=[]\n",
    "project=[]\n",
    "h3tags = soup.find_all( 'h3', class_='r' )\n",
    "for h3 in h3tags:\n",
    "        try:\n",
    "            projLink.append( re.search('url\\?q=(.+?)\\&sa', h3.a['href']).group(1) )\n",
    "        except:\n",
    "            continue\n",
    "\n",
    "project.append(projLink)\n",
    "print(project)"
   ]
  },
  {
   "cell_type": "code",
   "execution_count": 159,
   "metadata": {
    "collapsed": true
   },
   "outputs": [],
   "source": [
    "def buildJson(x,y): return x+\":\"+y"
   ]
  },
  {
   "cell_type": "code",
   "execution_count": 182,
   "metadata": {
    "collapsed": true
   },
   "outputs": [],
   "source": [
    "import json\n",
    "jso=[]\n",
    "for i in range(len(search[0])):\n",
    "    jso.append(\"'\"+search[0][i]+\"':'\"+search[1][i]+\"'\")"
   ]
  },
  {
   "cell_type": "code",
   "execution_count": 184,
   "metadata": {},
   "outputs": [
    {
     "data": {
      "text/plain": [
       "'[\"\\'How to Make Fresh , Mango Juice, : 13 Steps (with Pictures) - wikiHow\\':\\'http://www.wikihow.com/Make-Fresh-Mango-Juice\\'\", \"\\'mango juice,  - Veg , Recipes,  of India\\':\\'http://www.vegrecipesofindia.com/mango-juice/\\'\", \"\\'Mango Juice recipe,  - YouTube\\':\\'https://www.youtube.com/watch%3Fv%3Dg7Ss8qiH3zA\\'\", \"\\'Mango Juice Recipe,  - Spice Up The Curry\\':\\'http://www.spiceupthecurry.com/mango-juice-recipe/\\'\", \"\\'How to Make Fresh , Mango Juice, : 13 Steps (with Pictures) - wikiHow\\':\\'http://www.wikihow.com/Make-Fresh-Mango-Juice\\'\", \"\\'Mango Juice - , Mango Juice Recipe,  | How to make fresh mango ...\\':\\'http://www.sharmispassions.com/2013/04/mango-juice-recipe-how-to-make-fresh-mango-juice.html\\'\", \"\\'Homemade Mango Juice / Fresh , Mango Juice Recipe,  - Yummy ...\\':\\'http://www.yummytummyaarthi.com/2013/05/homemade-mango-juice-fresh-mango-juice.html\\'\", \"\\'15 , mango juice recipes,  | Page 1 of 2 | Tarladalal.com\\':\\'http://www.tarladalal.com/recipes-using-mango-juice-143\\'\", \"\\'Mango Juice,  (Jugo de Mango) | My Colombian , Recipes\\':\\'http://www.mycolombianrecipes.com/mango-juice-jugo-de-mango\\'\", \"\\'Mango, -Pineapple , Juice Recipe,  | Food Network Kitchen | Food ...\\':\\'http://www.foodnetwork.com/recipes/food-network-kitchen/mango-pineapple-juice-3362263\\'\", \"\\'Carrot-, Mango Juice Recipe,  & Video | Martha Stewart\\':\\'http://www.marthastewart.com/317161/carrot-mango-juice\\'\"]'"
      ]
     },
     "execution_count": 184,
     "metadata": {},
     "output_type": "execute_result"
    }
   ],
   "source": [
    "json.dumps(jso)"
   ]
  },
  {
   "cell_type": "code",
   "execution_count": 2,
   "metadata": {
    "collapsed": true
   },
   "outputs": [],
   "source": [
    "import requests\n",
    "from bs4 import BeautifulSoup"
   ]
  },
  {
   "cell_type": "code",
   "execution_count": 12,
   "metadata": {
    "collapsed": true
   },
   "outputs": [],
   "source": [
    "bhk=\"2\"\n",
    "city=\"chennai\"\n",
    "budgetMin=\"5000\"\n",
    "budgetMax=\"10000\"\n",
    "html=\"http://www.magicbricks.com/property-for-rent/residential-real-estate?bedroom=\"+bhk+\"&proptype=Residential-House,Villa&cityName=\"+city+\"&BudgetMin=\"+budgetMin+\"&BudgetMax=\"+budgetMax;\n",
    "\n",
    "result = requests.post(html,headers={'User-Agent': 'Mozilla/5.0 (Linux; <Android Version>; <Build Tag etc.>) AppleWebKit/<WebKit Rev> (KHTML, like Gecko) Chrome/<Chrome Rev> Mobile Safari/<WebKit Rev>'}).content"
   ]
  },
  {
   "cell_type": "code",
   "execution_count": 13,
   "metadata": {},
   "outputs": [
    {
     "name": "stderr",
     "output_type": "stream",
     "text": [
      "/usr/lib/python3/dist-packages/bs4/__init__.py:166: UserWarning: No parser was explicitly specified, so I'm using the best available HTML parser for this system (\"lxml\"). This usually isn't a problem, but if you run this code on another system, or in a different virtual environment, it may use a different parser and behave differently.\n",
      "\n",
      "To get rid of this warning, change this:\n",
      "\n",
      " BeautifulSoup([your markup])\n",
      "\n",
      "to this:\n",
      "\n",
      " BeautifulSoup([your markup], \"lxml\")\n",
      "\n",
      "  markup_type=markup_type))\n"
     ]
    }
   ],
   "source": [
    "soup = BeautifulSoup(result)"
   ]
  },
  {
   "cell_type": "code",
   "execution_count": 14,
   "metadata": {},
   "outputs": [
    {
     "name": "stdout",
     "output_type": "stream",
     "text": [
      "<a class=\"resultDetailLink resultDetailLinkV2\" href=\"/mbs/propertyDetails-2-BHK-750-Sqft-House-FOR-Rent-Gerugambakkam-in-Chennai&amp;id=I7YgRvnOuUlzpSvf+uAgZw==&amp;category=Rent\" id=\"resultDetailLink27732757\" name=\"resultDetailLink27732757\" onclick=\"_gaq.push([ '_trackEvent', 'propertySRP', 'detailPageNavigation','card_Rent_O' ]);sendRef('resultDetailLink27732757');\">\n",
      "<h3>\n",
      "<span class=\"fontBoldText fontColorRed\">₹ 8,500 </span>\n",
      "<span class=\"fontBoldText\"> -\n",
      "2 BHK\n",
      "House\n",
      "</span>\n",
      "for Rent in\n",
      "<span class=\"fontBoldText rProjectAddress\">\n",
      "Gerugambakkam </span>\n",
      "</h3>\n",
      "</a>\n",
      "<a class=\"resultDetailLink resultDetailLinkV2\" href=\"/mbs/propertyDetails-2-BHK-1200-Sqft-House-FOR-Rent-Choolaimedu-in-Chennai&amp;id=K3kBOwU0TXtzpSvf+uAgZw==&amp;category=Rent\" id=\"resultDetailLink25397955\" name=\"resultDetailLink25397955\" onclick=\"_gaq.push([ '_trackEvent', 'propertySRP', 'detailPageNavigation','card_Rent_O' ]);sendRef('resultDetailLink25397955');\">\n",
      "<h3>\n",
      "<span class=\"fontBoldText fontColorRed\">₹ 22,000 </span>\n",
      "<span class=\"fontBoldText\"> -\n",
      "2 BHK\n",
      "House\n",
      "</span>\n",
      "for Rent in\n",
      "<span class=\"fontBoldText rProjectAddress\">\n",
      "Choolaimedu </span>\n",
      "</h3>\n",
      "</a>\n",
      "<a class=\"resultDetailLink resultDetailLinkV2\" href=\"/mbs/propertyDetails-2-BHK-1500-Sqft-House-FOR-Rent-Kolapakkam-in-Chennai&amp;id=opzG3jhTJvhzpSvf+uAgZw==&amp;category=Rent\" id=\"resultDetailLink25771597\" name=\"resultDetailLink25771597\" onclick=\"_gaq.push([ '_trackEvent', 'propertySRP', 'detailPageNavigation','card_Rent_O' ]);sendRef('resultDetailLink25771597');\">\n",
      "<h3>\n",
      "<span class=\"fontBoldText fontColorRed\">₹ 15,000 </span>\n",
      "<span class=\"fontBoldText\"> -\n",
      "2 BHK\n",
      "House\n",
      "</span>\n",
      "for Rent in\n",
      "<span class=\"fontBoldText rProjectAddress\">\n",
      "Kolapakkam </span>\n",
      "</h3>\n",
      "</a>\n",
      "<a class=\"resultDetailLink resultDetailLinkV2\" href=\"/mbs/propertyDetails-2-BHK-900-Sqft-House-FOR-Rent-Santosh-Nagar-in-Chennai&amp;id=kQOslshiyHu9bRzpSvf+uAgZw==&amp;category=Rent\" id=\"resultDetailLink27408195\" name=\"resultDetailLink27408195\" onclick=\"_gaq.push([ '_trackEvent', 'propertySRP', 'detailPageNavigation','card_Rent_O' ]);sendRef('resultDetailLink27408195');\">\n",
      "<h3>\n",
      "<span class=\"fontBoldText fontColorRed\">₹ 9,000 </span>\n",
      "<span class=\"fontBoldText\"> -\n",
      "2 BHK\n",
      "House\n",
      "</span>\n",
      "for Rent in\n",
      "<span class=\"fontBoldText rProjectAddress\">\n",
      "Santosh Nagar </span>\n",
      "</h3>\n",
      "</a>\n",
      "<a class=\"resultDetailLink resultDetailLinkV2\" href=\"/mbs/propertyDetails-2-BHK-1200-Sqft-House-FOR-Rent-Thirumullaivoyal-in-Chennai&amp;id=QjMSb3RImaNzpSvf+uAgZw==&amp;category=Rent\" id=\"resultDetailLink26352351\" name=\"resultDetailLink26352351\" onclick=\"_gaq.push([ '_trackEvent', 'propertySRP', 'detailPageNavigation','card_Rent_O' ]);sendRef('resultDetailLink26352351');\">\n",
      "<h3>\n",
      "<span class=\"fontBoldText fontColorRed\">₹ 8,000 </span>\n",
      "<span class=\"fontBoldText\"> -\n",
      "2 BHK\n",
      "House\n",
      "</span>\n",
      "for Rent in\n",
      "<span class=\"fontBoldText rProjectAddress\">\n",
      "Thirumullaivoyal </span>\n",
      "</h3>\n",
      "</a>\n",
      "<a class=\"resultDetailLink resultDetailLinkV2\" href=\"/mbs/propertyDetails-2-BHK-1000-Sqft-House-FOR-Rent-Kolapakkam-in-Chennai&amp;id=7D84pnJSPZlzpSvf+uAgZw==&amp;category=Rent\" id=\"resultDetailLink26426475\" name=\"resultDetailLink26426475\" onclick=\"_gaq.push([ '_trackEvent', 'propertySRP', 'detailPageNavigation','card_Rent_O' ]);sendRef('resultDetailLink26426475');\">\n",
      "<h3>\n",
      "<span class=\"fontBoldText fontColorRed\">₹ 9,000 </span>\n",
      "<span class=\"fontBoldText\"> -\n",
      "2 BHK\n",
      "House\n",
      "</span>\n",
      "for Rent in\n",
      "<span class=\"fontBoldText rProjectAddress\">\n",
      "Kolapakkam </span>\n",
      "</h3>\n",
      "</a>\n",
      "<a class=\"resultDetailLink resultDetailLinkV2\" href=\"/mbs/propertyDetails-2-BHK-956-Sqft-House-FOR-Rent-Madhavaram-Milk-Colony-in-Chennai&amp;id=95+WxtU04OZzpSvf+uAgZw==&amp;category=Rent\" id=\"resultDetailLink25748177\" name=\"resultDetailLink25748177\" onclick=\"_gaq.push([ '_trackEvent', 'propertySRP', 'detailPageNavigation','card_Rent_O' ]);sendRef('resultDetailLink25748177');\">\n",
      "<h3>\n",
      "<span class=\"fontBoldText fontColorRed\">₹ 9,500 </span>\n",
      "<span class=\"fontBoldText\"> -\n",
      "2 BHK\n",
      "House\n",
      "</span>\n",
      "for Rent in\n",
      "<span class=\"fontBoldText rProjectAddress\">\n",
      "Madhavaram Milk Colony </span>\n",
      "</h3>\n",
      "</a>\n",
      "<a class=\"resultDetailLink resultDetailLinkV2\" href=\"/mbs/propertyDetails-2-BHK-1400-Sqft-House-FOR-Rent-Hasthinapuram-in-Chennai&amp;id=f5KE3x3bUstzpSvf+uAgZw==&amp;category=Rent\" id=\"resultDetailLink27375549\" name=\"resultDetailLink27375549\" onclick=\"_gaq.push([ '_trackEvent', 'propertySRP', 'detailPageNavigation','card_Rent_O' ]);sendRef('resultDetailLink27375549');\">\n",
      "<h3>\n",
      "<span class=\"fontBoldText fontColorRed\">₹ 12,500 </span>\n",
      "<span class=\"fontBoldText\"> -\n",
      "2 BHK\n",
      "House\n",
      "</span>\n",
      "for Rent in\n",
      "<span class=\"fontBoldText rProjectAddress\">\n",
      "Hasthinapuram </span>\n",
      "</h3>\n",
      "</a>\n",
      "<a class=\"resultDetailLink resultDetailLinkV2\" href=\"/mbs/propertyDetails-2-BHK-800-Sqft-House-FOR-Rent-Annanagar-East-Block-L-in-Chennai&amp;id=w27JLoU6LzJzpSvf+uAgZw==&amp;category=Rent\" id=\"resultDetailLink27008473\" name=\"resultDetailLink27008473\" onclick=\"_gaq.push([ '_trackEvent', 'propertySRP', 'detailPageNavigation','card_Rent_O' ]);sendRef('resultDetailLink27008473');\">\n",
      "<h3>\n",
      "<span class=\"fontBoldText fontColorRed\">₹ 15,000 </span>\n",
      "<span class=\"fontBoldText\"> -\n",
      "2 BHK\n",
      "House\n",
      "</span>\n",
      "for Rent in\n",
      "<span class=\"fontBoldText rProjectAddress\">\n",
      "Annanagar East Block L </span>\n",
      "</h3>\n",
      "</a>\n",
      "<a class=\"resultDetailLink resultDetailLinkV2\" href=\"/mbs/propertyDetails-2-BHK-1700-Sqft-House-FOR-Rent-Valasaravakkam-in-Chennai&amp;id=SDe+JzjfrT5zpSvf+uAgZw==&amp;category=Rent\" id=\"resultDetailLink26721753\" name=\"resultDetailLink26721753\" onclick=\"_gaq.push([ '_trackEvent', 'propertySRP', 'detailPageNavigation','card_Rent_O' ]);sendRef('resultDetailLink26721753');\">\n",
      "<h3>\n",
      "<span class=\"fontBoldText fontColorRed\">₹ 15,000 </span>\n",
      "<span class=\"fontBoldText\"> -\n",
      "2 BHK\n",
      "House\n",
      "</span>\n",
      "for Rent in\n",
      "<span class=\"fontBoldText rProjectAddress\">\n",
      "Valasaravakkam </span>\n",
      "</h3>\n",
      "</a>\n",
      "<a class=\"resultDetailLink resultDetailLinkV2\" href=\"/mbs/propertyDetails-2-BHK-1000-Sqft-House-FOR-Rent-Nungambakkam-in-Chennai-r1&amp;id=S2hTqRfN2YBzpSvf+uAgZw==&amp;category=Rent\" id=\"resultDetailLink12513860\" name=\"resultDetailLink12513860\" onclick=\"_gaq.push([ '_trackEvent', 'propertySRP', 'detailPageNavigation','card_Rent_N' ]);sendRef('resultDetailLink12513860');\">\n",
      "<h3>\n",
      "<span class=\"fontBoldText fontColorRed\">₹ 25,000 </span>\n",
      "<span class=\"fontBoldText\"> -\n",
      "2 BHK\n",
      "House\n",
      "</span>\n",
      "in\n",
      "<span class=\"fontBoldText rProjectAddress\">\n",
      "Nungambakkam </span>\n",
      "</h3>\n",
      "</a>\n",
      "<a class=\"resultDetailLink resultDetailLinkV2\" href=\"/mbs/propertyDetails-2-BHK-1100-Sqft-House-FOR-Rent-Alwarthirunagar-in-Chennai&amp;id=2oXVwVbkwmxzpSvf+uAgZw==&amp;category=Rent\" id=\"resultDetailLink26307153\" name=\"resultDetailLink26307153\" onclick=\"_gaq.push([ '_trackEvent', 'propertySRP', 'detailPageNavigation','card_Rent_N' ]);sendRef('resultDetailLink26307153');\">\n",
      "<h3>\n",
      "<span class=\"fontBoldText fontColorRed\">₹ 14,000 </span>\n",
      "<span class=\"fontBoldText\"> -\n",
      "2 BHK\n",
      "House\n",
      "</span>\n",
      "in\n",
      "<span class=\"fontBoldText rProjectAddress\">\n",
      "Alwarthirunagar </span>\n",
      "</h3>\n",
      "</a>\n",
      "<a class=\"resultDetailLink resultDetailLinkV2\" href=\"/mbs/propertyDetails-2-BHK-1000-Sqft-House-FOR-Rent-Zamin-Pallavaram-in-Chennai&amp;id=7ayEAciby5ZzpSvf+uAgZw==&amp;category=Rent\" id=\"resultDetailLink25519879\" name=\"resultDetailLink25519879\" onclick=\"_gaq.push([ '_trackEvent', 'propertySRP', 'detailPageNavigation','card_Rent_O' ]);sendRef('resultDetailLink25519879');\">\n",
      "<h3>\n",
      "<span class=\"fontBoldText fontColorRed\">₹ 12,000 </span>\n",
      "<span class=\"fontBoldText\"> -\n",
      "2 BHK\n",
      "House\n",
      "</span>\n",
      "for Rent in\n",
      "<span class=\"fontBoldText rProjectAddress\">\n",
      "Zamin Pallavaram </span>\n",
      "</h3>\n",
      "</a>\n",
      "<a class=\"resultDetailLink resultDetailLinkV2\" href=\"/mbs/propertyDetails-2-BHK-960-Sqft-House-FOR-Rent-Gangai-nagar-in-Chennai-r1&amp;id=qhVGDtxn1UlzpSvf+uAgZw==&amp;category=Rent\" id=\"resultDetailLink23605627\" name=\"resultDetailLink23605627\" onclick=\"_gaq.push([ '_trackEvent', 'propertySRP', 'detailPageNavigation','card_Rent_N' ]);sendRef('resultDetailLink23605627');\">\n",
      "<h3>\n",
      "<span class=\"fontBoldText fontColorRed\">₹ 13,000 </span>\n",
      "<span class=\"fontBoldText\"> -\n",
      "2 BHK\n",
      "House\n",
      "</span>\n",
      "in\n",
      "<span class=\"fontBoldText rProjectAddress\">\n",
      "Gangai nagar </span>\n",
      "</h3>\n",
      "</a>\n",
      "<a class=\"resultDetailLink resultDetailLinkV2\" href=\"/mbs/propertyDetails-2-BHK-1000-Sqft-House-FOR-Rent-Thirumullaivoyal-Rajiv-Gandhi-Nagar-in-Chennai-r1&amp;id=0R7VG6NBV4tzpSvf+uAgZw==&amp;category=Rent\" id=\"resultDetailLink10980777\" name=\"resultDetailLink10980777\" onclick=\"_gaq.push([ '_trackEvent', 'propertySRP', 'detailPageNavigation','card_Rent_N' ]);sendRef('resultDetailLink10980777');\">\n",
      "<h3>\n",
      "<span class=\"fontBoldText fontColorRed\">₹ 7,000 </span>\n",
      "<span class=\"fontBoldText\"> -\n",
      "2 BHK\n",
      "House\n",
      "</span>\n",
      "in\n",
      "<span class=\"fontBoldText rProjectAddress\">\n",
      "Thirumullaivoyal-Rajiv Gandhi Nagar </span>\n",
      "</h3>\n",
      "</a>\n"
     ]
    }
   ],
   "source": [
    "for item in soup.find_all('a',attrs={'class':'resultDetailLink'}):\n",
    "    print(item)"
   ]
  },
  {
   "cell_type": "code",
   "execution_count": null,
   "metadata": {
    "collapsed": true
   },
   "outputs": [],
   "source": []
  }
 ],
 "metadata": {
  "kernelspec": {
   "display_name": "Python 3",
   "language": "python",
   "name": "python3"
  },
  "language_info": {
   "codemirror_mode": {
    "name": "ipython",
    "version": 3
   },
   "file_extension": ".py",
   "mimetype": "text/x-python",
   "name": "python",
   "nbconvert_exporter": "python",
   "pygments_lexer": "ipython3",
   "version": "3.5.2"
  }
 },
 "nbformat": 4,
 "nbformat_minor": 2
}
