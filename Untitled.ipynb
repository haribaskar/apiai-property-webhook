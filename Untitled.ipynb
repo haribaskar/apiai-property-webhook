{
 "cells": [
  {
   "cell_type": "code",
   "execution_count": 34,
   "metadata": {
    "collapsed": true
   },
   "outputs": [],
   "source": [
    "from urllib.parse import urlparse, urlencode\n",
    "from urllib.request import urlopen, Request\n",
    "from urllib.error import HTTPError\n",
    "from bs4 import BeautifulSoup\n",
    "import urllib.request\n",
    "import re\n"
   ]
  },
  {
   "cell_type": "code",
   "execution_count": 71,
   "metadata": {
    "scrolled": false
   },
   "outputs": [
    {
     "name": "stdout",
     "output_type": "stream",
     "text": [
      "http://www.magicbricks.com/property-for-rent/residential-real-estate?bedroom=2&proptype=Residential-House,Villa&cityName=chennai&BudgetMin=5000&BudgetMax=10000\n",
      "₹ 8,500  -2 BHKHousefor Rent inGerugambakkam \n",
      "₹ 22,000  -2 BHKHousefor Rent inChoolaimedu \n",
      "₹ 15,000  -2 BHKHousefor Rent inKolapakkam \n",
      "₹ 9,000  -2 BHKHousefor Rent inSantosh Nagar \n",
      "₹ 8,000  -2 BHKHousefor Rent inThirumullaivoyal \n",
      "₹ 9,000  -2 BHKHousefor Rent inKolapakkam \n",
      "₹ 9,500  -2 BHKHousefor Rent inMadhavaram Milk Colony \n",
      "₹ 12,500  -2 BHKHousefor Rent inHasthinapuram \n",
      "₹ 15,000  -2 BHKHousefor Rent inAnnanagar East Block L \n",
      "₹ 15,000  -2 BHKHousefor Rent inValasaravakkam \n",
      "₹ 25,000  -2 BHKHouseinNungambakkam \n",
      "₹ 14,000  -2 BHKHouseinAlwarthirunagar \n",
      "₹ 12,000  -2 BHKHousefor Rent inZamin Pallavaram \n",
      "₹ 13,000  -2 BHKHouseinGangai nagar \n",
      "₹ 8,500  -2 BHKHouseinMadipakkam \n",
      "['₹ 8,500  -2\\xa0BHKHousefor Rent inGerugambakkam ', '₹ 22,000  -2\\xa0BHKHousefor Rent inChoolaimedu ', '₹ 15,000  -2\\xa0BHKHousefor Rent inKolapakkam ', '₹ 9,000  -2\\xa0BHKHousefor Rent inSantosh Nagar ', '₹ 8,000  -2\\xa0BHKHousefor Rent inThirumullaivoyal ', '₹ 9,000  -2\\xa0BHKHousefor Rent inKolapakkam ', '₹ 9,500  -2\\xa0BHKHousefor Rent inMadhavaram Milk Colony ', '₹ 12,500  -2\\xa0BHKHousefor Rent inHasthinapuram ', '₹ 15,000  -2\\xa0BHKHousefor Rent inAnnanagar East Block L ', '₹ 15,000  -2\\xa0BHKHousefor Rent inValasaravakkam ', '₹ 25,000  -2\\xa0BHKHouseinNungambakkam ', '₹ 14,000  -2\\xa0BHKHouseinAlwarthirunagar ', '₹ 12,000  -2\\xa0BHKHousefor Rent inZamin Pallavaram ', '₹ 13,000  -2\\xa0BHKHouseinGangai nagar ', '₹ 8,500  -2\\xa0BHKHouseinMadipakkam ']\n"
     ]
    }
   ],
   "source": [
    "bhk=\"2\"\n",
    "city=\"chennai\"\n",
    "budgetMin=\"5000\"\n",
    "budgetMax=\"10000\"\n",
    "html=\"http://www.magicbricks.com/property-for-rent/residential-real-estate?bedroom=\"+bhk+\"&proptype=Residential-House,Villa&cityName=\"+city+\"&BudgetMin=\"+budgetMin+\"&BudgetMax=\"+budgetMax;\n",
    "req = urllib.request.Request(html, headers={'User-Agent': 'Mozilla/5.0 (Linux; <Android Version>; <Build Tag etc.>) AppleWebKit/<WebKit Rev> (KHTML, like Gecko) Chrome/<Chrome Rev> Mobile Safari/<WebKit Rev>'})\n",
    "print(html)\n",
    "soup = BeautifulSoup(urlopen(req).read(),\"html.parser\")\n",
    "projLink=[]\n",
    "projDetail=[]\n",
    "projImage=[]\n",
    "projDesc=[]\n",
    "projDescList=[]\n",
    "project=[]\n",
    "for item in soup.find_all('a',attrs={'class':'resultDetailLink'}):\n",
    "        projDetail.append(item.h3.text.replace(\"\\n\",\"\"))\n",
    "        projLink.append(\"http://m.magicbricks.com\"+item[\"href\"])\n",
    "for item in soup.find_all('div',attrs={'class':'projImage'}):\n",
    "        projImage.append(item[\"data-original\"])\n",
    "for item in soup.find_all('div',attrs={'class' : 'propertyDesc_Less'}):\n",
    "        projDesc.append(item.text)\n",
    "for item in soup.find_all('div',attrs={'class' : 'projectDescListing'}):\n",
    "        projDescList.append(item.text)\n",
    "project.append(projLink)\n",
    "project.append(projDetail)\n",
    "project.append(projImage)\n",
    "project.append(projDesc)\n",
    "project.append(projDescList)\n",
    "\n",
    "print(projDetail)"
   ]
  },
  {
   "cell_type": "code",
   "execution_count": 159,
   "metadata": {
    "collapsed": true
   },
   "outputs": [],
   "source": [
    "def buildJson(x,y): return x+\":\"+y"
   ]
  },
  {
   "cell_type": "code",
   "execution_count": 182,
   "metadata": {
    "collapsed": true
   },
   "outputs": [],
   "source": [
    "import json\n",
    "jso=[]\n",
    "for i in range(len(search[0])):\n",
    "    jso.append(\"'\"+search[0][i]+\"':'\"+search[1][i]+\"'\")"
   ]
  },
  {
   "cell_type": "code",
   "execution_count": 184,
   "metadata": {},
   "outputs": [
    {
     "data": {
      "text/plain": [
       "'[\"\\'How to Make Fresh , Mango Juice, : 13 Steps (with Pictures) - wikiHow\\':\\'http://www.wikihow.com/Make-Fresh-Mango-Juice\\'\", \"\\'mango juice,  - Veg , Recipes,  of India\\':\\'http://www.vegrecipesofindia.com/mango-juice/\\'\", \"\\'Mango Juice recipe,  - YouTube\\':\\'https://www.youtube.com/watch%3Fv%3Dg7Ss8qiH3zA\\'\", \"\\'Mango Juice Recipe,  - Spice Up The Curry\\':\\'http://www.spiceupthecurry.com/mango-juice-recipe/\\'\", \"\\'How to Make Fresh , Mango Juice, : 13 Steps (with Pictures) - wikiHow\\':\\'http://www.wikihow.com/Make-Fresh-Mango-Juice\\'\", \"\\'Mango Juice - , Mango Juice Recipe,  | How to make fresh mango ...\\':\\'http://www.sharmispassions.com/2013/04/mango-juice-recipe-how-to-make-fresh-mango-juice.html\\'\", \"\\'Homemade Mango Juice / Fresh , Mango Juice Recipe,  - Yummy ...\\':\\'http://www.yummytummyaarthi.com/2013/05/homemade-mango-juice-fresh-mango-juice.html\\'\", \"\\'15 , mango juice recipes,  | Page 1 of 2 | Tarladalal.com\\':\\'http://www.tarladalal.com/recipes-using-mango-juice-143\\'\", \"\\'Mango Juice,  (Jugo de Mango) | My Colombian , Recipes\\':\\'http://www.mycolombianrecipes.com/mango-juice-jugo-de-mango\\'\", \"\\'Mango, -Pineapple , Juice Recipe,  | Food Network Kitchen | Food ...\\':\\'http://www.foodnetwork.com/recipes/food-network-kitchen/mango-pineapple-juice-3362263\\'\", \"\\'Carrot-, Mango Juice Recipe,  & Video | Martha Stewart\\':\\'http://www.marthastewart.com/317161/carrot-mango-juice\\'\"]'"
      ]
     },
     "execution_count": 184,
     "metadata": {},
     "output_type": "execute_result"
    }
   ],
   "source": [
    "json.dumps(jso)"
   ]
  },
  {
   "cell_type": "code",
   "execution_count": null,
   "metadata": {
    "collapsed": true
   },
   "outputs": [],
   "source": []
  }
 ],
 "metadata": {
  "kernelspec": {
   "display_name": "Python 3",
   "language": "python",
   "name": "python3"
  },
  "language_info": {
   "codemirror_mode": {
    "name": "ipython",
    "version": 3
   },
   "file_extension": ".py",
   "mimetype": "text/x-python",
   "name": "python",
   "nbconvert_exporter": "python",
   "pygments_lexer": "ipython3",
   "version": "3.5.2"
  }
 },
 "nbformat": 4,
 "nbformat_minor": 2
}
